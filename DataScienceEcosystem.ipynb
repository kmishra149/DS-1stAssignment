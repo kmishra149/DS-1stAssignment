{
 "cells": [
  {
   "cell_type": "markdown",
   "id": "964437fe-2eab-4023-bee2-d80b33b105d8",
   "metadata": {},
   "source": [
    "# Data Science Tools and Ecosystem"
   ]
  },
  {
   "cell_type": "markdown",
   "id": "af701377-1211-4d8e-9247-0193a1e2406e",
   "metadata": {},
   "source": [
    "In this notebook, Data Science Tools and Ecosystem are summarized."
   ]
  },
  {
   "cell_type": "markdown",
   "id": "f89fce90-7953-41eb-8852-ae011061d22c",
   "metadata": {},
   "source": [
    "**Objectives:**\n",
    "- List popular languages for Data Science\n",
    "- List popular libraries used by DS\n",
    "- Display table of popular DS development tools\n",
    "- Arithmetic expression for multiplication and addition\n",
    "- Conversion from minutes to hours"
   ]
  },
  {
   "cell_type": "markdown",
   "id": "52da8f27-7143-4d40-8c37-8d7880f01bcd",
   "metadata": {},
   "source": [
    "Some of the popular languages that Data Scientists use are:\n",
    "1. Python\n",
    "2. R\n",
    "3. C++\n",
    "4. SQL\n",
    "5. Java"
   ]
  },
  {
   "cell_type": "markdown",
   "id": "a40e277c-fb8a-472f-90fe-785b1b8f9008",
   "metadata": {},
   "source": [
    "Some of the commonly used libraries used by Data Scientists include:\n",
    "1. Panda\n",
    "2. NumPy\n",
    "3. Tensorflow\n",
    "4. ggplot\n",
    "5. plotly\n",
    "6. matplotlib"
   ]
  },
  {
   "cell_type": "markdown",
   "id": "e071c959-74c6-45af-bed3-d9cb0f716c3d",
   "metadata": {},
   "source": [
    "|Data Science Tools|\n",
    "|------------------|\n",
    "|Jupyter Notebook|\n",
    "|JupyterLab|\n",
    "|Rstudio|\n",
    "|VScode|\n",
    "|Anaconda|\n"
   ]
  },
  {
   "cell_type": "markdown",
   "id": "a0df1c4a-c858-4f7b-8a4e-1bd3808ce967",
   "metadata": {},
   "source": [
    "### Below are a few examples of evaluating arithmetic expressions in Python"
   ]
  },
  {
   "cell_type": "code",
   "execution_count": 3,
   "id": "a1517a58-a417-4323-91b5-cd39a91db3c2",
   "metadata": {
    "tags": []
   },
   "outputs": [
    {
     "data": {
      "text/plain": [
       "17"
      ]
     },
     "execution_count": 3,
     "metadata": {},
     "output_type": "execute_result"
    }
   ],
   "source": [
    "# This a simple arithmetic expression to mutiply then add integers\n",
    "(3*4)+5"
   ]
  },
  {
   "cell_type": "code",
   "execution_count": 5,
   "id": "a65b6616-517a-45d6-8f53-c110dec3f636",
   "metadata": {
    "tags": []
   },
   "outputs": [
    {
     "data": {
      "text/plain": [
       "3.3333333333333335"
      ]
     },
     "execution_count": 5,
     "metadata": {},
     "output_type": "execute_result"
    }
   ],
   "source": [
    "# This will convert 200 minutes to hours by diving by 60\n",
    "200/60"
   ]
  },
  {
   "cell_type": "markdown",
   "id": "58e60ebb-3a8a-4ba9-8d20-e7aed9896377",
   "metadata": {
    "tags": []
   },
   "source": [
    "## Author\n",
    "Krishna Kumar Mishra"
   ]
  },
  {
   "cell_type": "code",
   "execution_count": null,
   "id": "0a509437-e32f-4922-878e-5b0f296635bb",
   "metadata": {},
   "outputs": [],
   "source": []
  }
 ],
 "metadata": {
  "kernelspec": {
   "display_name": "Python",
   "language": "python",
   "name": "conda-env-python-py"
  },
  "language_info": {
   "codemirror_mode": {
    "name": "ipython",
    "version": 3
   },
   "file_extension": ".py",
   "mimetype": "text/x-python",
   "name": "python",
   "nbconvert_exporter": "python",
   "pygments_lexer": "ipython3",
   "version": "3.7.12"
  }
 },
 "nbformat": 4,
 "nbformat_minor": 5
}
